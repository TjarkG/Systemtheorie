{
 "cells": [
  {
   "cell_type": "code",
   "id": "initial_id",
   "metadata": {
    "collapsed": true,
    "ExecuteTime": {
     "end_time": "2024-12-15T22:09:16.396126Z",
     "start_time": "2024-12-15T22:09:15.929378Z"
    }
   },
   "source": [
    "from sympy import *\n",
    "s = symbols(\"s\")"
   ],
   "outputs": [],
   "execution_count": 1
  },
  {
   "metadata": {
    "ExecuteTime": {
     "end_time": "2024-12-15T22:09:16.481590Z",
     "start_time": "2024-12-15T22:09:16.423727Z"
    }
   },
   "cell_type": "code",
   "source": "apart(1 / (s * (s + 1)*(s - 2)))",
   "id": "b0bff00f2c9e4ca5",
   "outputs": [
    {
     "data": {
      "text/plain": [
       "1/(3*(s + 1)) + 1/(6*(s - 2)) - 1/(2*s)"
      ],
      "text/latex": "$\\displaystyle \\frac{1}{3 \\left(s + 1\\right)} + \\frac{1}{6 \\left(s - 2\\right)} - \\frac{1}{2 s}$"
     },
     "execution_count": 2,
     "metadata": {},
     "output_type": "execute_result"
    }
   ],
   "execution_count": 2
  },
  {
   "metadata": {
    "ExecuteTime": {
     "end_time": "2024-12-15T22:10:13.281854Z",
     "start_time": "2024-12-15T22:10:13.266472Z"
    }
   },
   "cell_type": "code",
   "source": "apart(1 / (s**2-s-2))",
   "id": "5db5d4e2d718abe5",
   "outputs": [
    {
     "data": {
      "text/plain": [
       "-1/(3*(s + 1)) + 1/(3*(s - 2))"
      ],
      "text/latex": "$\\displaystyle - \\frac{1}{3 \\left(s + 1\\right)} + \\frac{1}{3 \\left(s - 2\\right)}$"
     },
     "execution_count": 3,
     "metadata": {},
     "output_type": "execute_result"
    }
   ],
   "execution_count": 3
  },
  {
   "metadata": {
    "ExecuteTime": {
     "end_time": "2024-12-15T22:13:54.591660Z",
     "start_time": "2024-12-15T22:13:54.508242Z"
    }
   },
   "cell_type": "code",
   "source": "apart(-2 / ((s-1)*(s**2+2*s+2)), extension=I)",
   "id": "be203c51fa5a5a9b",
   "outputs": [
    {
     "data": {
      "text/plain": [
       "-(-1/5 - 2*I/5)/(s + 1 + I) - (-1/5 + 2*I/5)/(s + 1 - I) - 2/(5*(s - 1))"
      ],
      "text/latex": "$\\displaystyle - \\frac{- \\frac{1}{5} - \\frac{2 i}{5}}{s + 1 + i} - \\frac{- \\frac{1}{5} + \\frac{2 i}{5}}{s + 1 - i} - \\frac{2}{5 \\left(s - 1\\right)}$"
     },
     "execution_count": 11,
     "metadata": {},
     "output_type": "execute_result"
    }
   ],
   "execution_count": 11
  },
  {
   "metadata": {},
   "cell_type": "code",
   "outputs": [],
   "execution_count": null,
   "source": "",
   "id": "85d43bb4e1131af9"
  }
 ],
 "metadata": {
  "kernelspec": {
   "display_name": "Python 3",
   "language": "python",
   "name": "python3"
  },
  "language_info": {
   "codemirror_mode": {
    "name": "ipython",
    "version": 2
   },
   "file_extension": ".py",
   "mimetype": "text/x-python",
   "name": "python",
   "nbconvert_exporter": "python",
   "pygments_lexer": "ipython2",
   "version": "2.7.6"
  }
 },
 "nbformat": 4,
 "nbformat_minor": 5
}
